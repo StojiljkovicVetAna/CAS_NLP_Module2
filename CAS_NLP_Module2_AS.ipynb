{
 "cells": [
  {
   "cell_type": "markdown",
   "metadata": {},
   "source": [
    "# CAS NLP Module 2 Project\n",
    "In this project I aim at training a NLP model to classify scientific papers into different categories, e.g. experimental study, review article, etc. based on the abstract.\n",
    "\n",
    "The corpus is composed of 50 scientific articles on dog behaviour selected by an expert scientist with whom we have a collaboration project. I used the open-source literature software Zotero to organize the literature, which allows me to easely export the 50 papers of the corpus as json file (Zotero_50papers.json).\n",
    "\n",
    "Step 1: Manually annotate the 50 papers\n",
    "Step 2: Import the abstracts of the papers with \n",
    "Step 3: Clean the abstracts\n",
    "Step 4: Tokenize the abstract\n",
    "Step 5: Embed each abstract as a single vector\n",
    "Step 6: Train a text classification model\n",
    "Step 7 (optional, if I have time): Compare the performance of different classification models\n",
    "\n",
    "Possible drawbacks:\n",
    "- Corpus too small --> I have the possibility to expand it manually with other papers outside of the specific topic\n",
    "- Category imbalance --> I can add more papers of the missing category"
   ]
  },
  {
   "cell_type": "code",
   "execution_count": 31,
   "metadata": {},
   "outputs": [],
   "source": [
    "import json"
   ]
  },
  {
   "cell_type": "code",
   "execution_count": 32,
   "metadata": {},
   "outputs": [],
   "source": [
    "with open(\"Zotero_50papers.json\", \"r\", encoding=\"utf-8\") as f:\n",
    "    data = json.load(f)"
   ]
  },
  {
   "cell_type": "code",
   "execution_count": 33,
   "metadata": {},
   "outputs": [],
   "source": [
    "doi_list = []\n",
    "\n",
    "for item in data:\n",
    "    rec = item.get(\"data\", item)\n",
    "    if \"id\" in rec:\n",
    "        doi_list.append(rec[\"DOI\"])\n"
   ]
  },
  {
   "cell_type": "code",
   "execution_count": 34,
   "metadata": {},
   "outputs": [
    {
     "name": "stdout",
     "output_type": "stream",
     "text": [
      "50\n"
     ]
    }
   ],
   "source": [
    "print(len(doi_list))"
   ]
  },
  {
   "cell_type": "code",
   "execution_count": 36,
   "metadata": {},
   "outputs": [
    {
     "data": {
      "text/plain": [
       "['10.1007/s10071-021-01544-x',\n",
       " '10.1371/journal.pone.0212652',\n",
       " '10.1007/s10071-021-01473-9',\n",
       " '10.1038/s41598-019-52938-4',\n",
       " '10.3389/fvets.2019.00049',\n",
       " '10.1007/s10071-024-01899-x',\n",
       " '10.1371/journal.pbio.1000451',\n",
       " '10.1038/s41598-022-27079-w',\n",
       " '10.1371/journal.pone.0152393',\n",
       " '10.1007/s10071-021-01471-x',\n",
       " '10.1007/s10071-020-01348-5',\n",
       " '10.1038/s41598-017-15091-4',\n",
       " '10.1007/s10071-021-01532-1',\n",
       " '10.3389/fpsyg.2021.568935',\n",
       " '10.1038/s41598-019-55714-6',\n",
       " '10.1371/journal.pone.0006584',\n",
       " '10.3390/fi14040097',\n",
       " '10.3390/ijerph17020506',\n",
       " '10.1371/journal.pone.0215416',\n",
       " '10.3389/fvets.2019.00499',\n",
       " '10.3389/fpsyg.2020.02131',\n",
       " '10.3390/ani10112061',\n",
       " '10.3390/ani12040482',\n",
       " '10.3389/fpsyg.2019.02001',\n",
       " '10.3389/fvets.2021.646022',\n",
       " '10.3389/fvets.2021.760845',\n",
       " '10.1371/journal.pone.0074770',\n",
       " '10.1038/s41598-020-72841-7',\n",
       " '10.1371/journal.pone.0118375',\n",
       " '10.1371/journal.pone.0164760',\n",
       " '10.3389/fvets.2020.00597',\n",
       " '10.1073/pnas.1820653116',\n",
       " '10.1038/s41598-017-12781-x',\n",
       " '10.3390/ani11102907',\n",
       " '10.1038/s41598-021-88201-y',\n",
       " '10.1038/s41598-024-61110-6',\n",
       " '10.3390/vetsci10030195',\n",
       " '10.1016/j.anbehav.2024.05.013',\n",
       " '10.3389/fvets.2020.00508',\n",
       " '10.1038/s41598-021-98526-3',\n",
       " '10.7717/peerj.15601',\n",
       " '10.1371/journal.pone.0170730',\n",
       " '10.3389/fpsyg.2020.613512',\n",
       " '10.1016/j.vas.2020.100145',\n",
       " '10.3390/ani12111338',\n",
       " '10.1371/journal.pone.0143047',\n",
       " '10.1038/s41598-022-24136-2',\n",
       " '10.3390/ani8080131',\n",
       " '10.1371/journal.pone.0003349',\n",
       " '10.1016/j.anbehav.2024.08.005']"
      ]
     },
     "execution_count": 36,
     "metadata": {},
     "output_type": "execute_result"
    }
   ],
   "source": [
    "doi_list"
   ]
  },
  {
   "cell_type": "code",
   "execution_count": null,
   "metadata": {},
   "outputs": [],
   "source": []
  }
 ],
 "metadata": {
  "kernelspec": {
   "display_name": "cas-nlp-module2",
   "language": "python",
   "name": "python3"
  },
  "language_info": {
   "codemirror_mode": {
    "name": "ipython",
    "version": 3
   },
   "file_extension": ".py",
   "mimetype": "text/x-python",
   "name": "python",
   "nbconvert_exporter": "python",
   "pygments_lexer": "ipython3",
   "version": "3.11.13"
  }
 },
 "nbformat": 4,
 "nbformat_minor": 2
}
